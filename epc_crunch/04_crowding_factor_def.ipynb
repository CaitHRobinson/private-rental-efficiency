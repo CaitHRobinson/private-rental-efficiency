{
 "cells": [
  {
   "cell_type": "code",
   "execution_count": 1,
   "metadata": {},
   "outputs": [],
   "source": [
    "import geopandas as gpd\n",
    "import pandas as pd\n",
    "import numpy as np\n",
    "import fiona\n",
    "import folium\n",
    "import glob\n",
    "import matplotlib.pyplot as plt"
   ]
  },
  {
   "cell_type": "markdown",
   "metadata": {},
   "source": [
    "# Create crowding for LA, LSOA and OA"
   ]
  },
  {
   "cell_type": "code",
   "execution_count": 2,
   "metadata": {},
   "outputs": [],
   "source": [
    "list_paths2 = glob.glob(\"./../../../../../../Desktop/MAV/all_certificates/*.csv\")\n",
    "\n",
    "data = pd.DataFrame()\n",
    "\n",
    "for i in range(len(glob.glob('./../../../../../../Desktop/MAV/all_certificates/*.csv'))):\n",
    "    x = pd.read_csv(list_paths2[i],usecols = ['UPRN','TOTAL_FLOOR_AREA','LATITUDE','LONGITUDE'])\n",
    "    data = pd.concat([data,x])"
   ]
  },
  {
   "cell_type": "code",
   "execution_count": 3,
   "metadata": {},
   "outputs": [],
   "source": [
    "data = gpd.GeoDataFrame(data, geometry = gpd.points_from_xy(data.LONGITUDE,data.LATITUDE),crs='EPSG:4326')"
   ]
  },
  {
   "cell_type": "code",
   "execution_count": 4,
   "metadata": {},
   "outputs": [],
   "source": [
    "# read the boundary data\n",
    "LA = gpd.read_file('../Data/boundaries/LAD_Dec_2021_GB_BFC_2022_-8975151699474964544.geojson').to_crs('EPSG:4326')\n",
    "#extract boundary ID to EPCs\n",
    "epc3_LA = data.sjoin(LA.loc[:,['LAD21CD','LAD21NM','geometry']], how = 'left')\n",
    "#group EPCs by the boundary ID\n",
    "house_area_LA = epc3_LA.loc[:,['LAD21CD', 'TOTAL_FLOOR_AREA']].groupby(['LAD21CD']).agg(median_house_area = ('TOTAL_FLOOR_AREA','median'),\n",
    "                                                                    count_houses = ('TOTAL_FLOOR_AREA','count')).reset_index()\n",
    "# remove boundary IDs where there is not enough EPCs\n",
    "house_area_LA = house_area_LA[house_area_LA['count_houses']>11]\n",
    "# merge the epc data to boundaries\n",
    "LA = LA.merge(house_area_LA, on = 'LAD21CD', how = 'right')\n",
    "# load census\n",
    "LA_census = pd.read_csv('./../Data/census/2021/census2021-ts001/census2021-ts001-ltla.csv'\n",
    "                        ).rename(columns = {'geography':'LAD21NM' , 'geography code':'LAD21CD','Residence type: Lives in a household; measures: Value':'household_pop'}\n",
    "                                 ).iloc[:,[2,4]]\n",
    "# merge to the data\n",
    "LA = LA.merge(LA_census, on = 'LAD21CD', how = 'left')\n",
    "# create crowd factor\n",
    "LA['pop_per_floor'] = LA['household_pop'] / LA['median_house_area'] \n",
    "# so N_people / house area\n",
    "# normalize\n",
    "LA['pop_per_floor_stand'] = (LA['pop_per_floor']-LA['pop_per_floor'].min()) / (LA['pop_per_floor'].max()-LA['pop_per_floor'].min())\n",
    "# export\n",
    "LA.to_file('./../Data/crowd_factor/crowd_LA.geojson')"
   ]
  },
  {
   "cell_type": "code",
   "execution_count": 14,
   "metadata": {},
   "outputs": [],
   "source": [
    "LA.to_file('./../Data/crowd_factor/crowd_LA.geojson')"
   ]
  },
  {
   "cell_type": "code",
   "execution_count": 15,
   "metadata": {},
   "outputs": [],
   "source": [
    "del LA\n",
    "del epc3_LA\n",
    "del LA_census\n",
    "del house_area_LA"
   ]
  },
  {
   "cell_type": "code",
   "execution_count": 16,
   "metadata": {},
   "outputs": [],
   "source": [
    "\n",
    "LSOA = gpd.read_file('./../Data/boundaries/LSOA_2021.geojson').to_crs('EPSG:4326')\n",
    "epc_LSOA = data.sjoin(LSOA.loc[:,['LSOA21CD','geometry']], how = 'left')\n",
    "\n",
    "house_area_LSOA = epc_LSOA.loc[:,['LSOA21CD', 'TOTAL_FLOOR_AREA']].groupby(['LSOA21CD']).agg(median_house_area = ('TOTAL_FLOOR_AREA','median'),\n",
    "                                                                    count_houses = ('TOTAL_FLOOR_AREA','count')).reset_index()\n",
    "house_area_LSOA = house_area_LSOA[house_area_LSOA['count_houses']>5]\n",
    "\n",
    "LSOA = LSOA.merge(house_area_LSOA, on = 'LSOA21CD', how = 'right')\n",
    "\n",
    "# load census\n",
    "LSOA_census = pd.read_csv('./../Data/census/2021/census2021-ts001/census2021-ts001-lsoa.csv'\n",
    "                        ).rename(columns = {'geography code':'LSOA21CD','Residence type: Lives in a household; measures: Value':'household_pop'}\n",
    "                                 ).iloc[:,[2,4]]\n",
    "# merge to the data\n",
    "LSOA = LSOA.merge(LSOA_census, on = 'LSOA21CD', how = 'left')\n",
    "# create crowd factor\n",
    "LSOA['pop_per_floor'] = LSOA['household_pop'] / LSOA['median_house_area']\n",
    "\n",
    "LSOA['pop_per_floor_stand'] = (LSOA['pop_per_floor']-LSOA['pop_per_floor'].min()) / (LSOA['pop_per_floor'].max()-LSOA['pop_per_floor'].min())\n",
    "# export\n",
    "LSOA.to_file('./../Data/crowd_factor/crowd_LSOA.geojson')"
   ]
  },
  {
   "cell_type": "markdown",
   "metadata": {},
   "source": [
    "del LSOA\n",
    "del epc_LSOA\n",
    "del LSOA_census\n",
    "del house_area_LSOA"
   ]
  },
  {
   "cell_type": "code",
   "execution_count": 18,
   "metadata": {},
   "outputs": [],
   "source": [
    "OA21 = gpd.read_file('./../Data/boundaries/Output_Areas/Output_Areas_Dec_2021_Boundaries_Generalised_Clipped_EW_BGC_2022_-5131276949491721609.geojson').to_crs('EPSG:4326')\n",
    "epc_OA = data.sjoin(OA21.loc[:,['OA21CD','geometry']], how = 'left')\n",
    "\n",
    "house_area_OA = epc_OA.loc[:,['OA21CD', 'TOTAL_FLOOR_AREA']].groupby(['OA21CD']).agg(median_house_area = ('TOTAL_FLOOR_AREA','median'),\n",
    "                                                                    count_houses = ('TOTAL_FLOOR_AREA','count')).reset_index()\n",
    "house_area_OA = house_area_OA[house_area_OA['count_houses']>5]\n",
    "\n",
    "OA21 = OA21.merge(house_area_OA, on = 'OA21CD', how = 'right')\n",
    "\n",
    "# load census\n",
    "OA_census = pd.read_csv('./../Data/census/2021/census2021-ts001/census2021-ts001-oa.csv'\n",
    "                        ).rename(columns = {'geography code':'OA21CD','Residence type: Lives in a household; measures: Value':'household_pop'}\n",
    "                                 ).iloc[:,[2,4]]\n",
    "# merge to the data\n",
    "OA21 = OA21.merge(OA_census, on = 'OA21CD', how = 'left')\n",
    "# create crowd factor\n",
    "OA21['pop_per_floor'] = OA21['household_pop'] / OA21['median_house_area']\n",
    "# export\n",
    "OA21.to_file('./../Data/crowd_factor/crowd_OA.geojson')"
   ]
  },
  {
   "cell_type": "code",
   "execution_count": 31,
   "metadata": {},
   "outputs": [],
   "source": [
    "\n",
    "del OA21\n",
    "del epc_OA\n",
    "del OA_census\n",
    "del house_area_OA\n"
   ]
  }
 ],
 "metadata": {
  "kernelspec": {
   "display_name": "birank",
   "language": "python",
   "name": "python3"
  },
  "language_info": {
   "codemirror_mode": {
    "name": "ipython",
    "version": 3
   },
   "file_extension": ".py",
   "mimetype": "text/x-python",
   "name": "python",
   "nbconvert_exporter": "python",
   "pygments_lexer": "ipython3",
   "version": "3.11.4"
  },
  "orig_nbformat": 4
 },
 "nbformat": 4,
 "nbformat_minor": 2
}
